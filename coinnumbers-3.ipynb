{
 "cells": [
  {
   "cell_type": "code",
   "execution_count": 1,
   "id": "a7c9e97e-c38d-46ab-a3a6-b491fc843129",
   "metadata": {},
   "outputs": [],
   "source": [
    "import numpy as np\n",
    "import math\n",
    "import matplotlib.pyplot as plt"
   ]
  },
  {
   "cell_type": "code",
   "execution_count": 2,
   "id": "6cf9ad19-79a9-441a-9d18-27613d6b7477",
   "metadata": {},
   "outputs": [
    {
     "name": "stdout",
     "output_type": "stream",
     "text": [
      "1.0\n",
      "23.0\n",
      "231.0\n",
      "1330.0\n",
      "4845.0\n",
      "11628.0\n",
      "18564.0\n",
      "19448.0\n",
      "12870.0\n",
      "5005.0\n",
      "1001.0\n",
      "78.0\n",
      "1.0\n",
      "0.6666666865348816\n"
     ]
    }
   ],
   "source": [
    "# Calculating probability for each different case\n",
    "# (# of times the coin needs to be flipped)\n",
    "\n",
    "def coinFlipCase(n):\n",
    "    return math.factorial(24 - n) / (math.factorial(n) * math.factorial(24 - 2 * n))\n",
    "\n",
    "# adding all probabilities together\n",
    "\n",
    "counter = 0\n",
    "\n",
    "for i in range(0, 13):\n",
    "    counter += coinFlipCase(i) / (2 ** (24 - i))\n",
    "    print(coinFlipCase(i))\n",
    "print(counter)\n",
    "\n",
    "#print(coinFlipCase(12))"
   ]
  },
  {
   "cell_type": "code",
   "execution_count": 3,
   "id": "35601ce4-b212-4191-bb4a-3c088e8d1422",
   "metadata": {},
   "outputs": [
    {
     "name": "stdout",
     "output_type": "stream",
     "text": [
      "[ 1.  2.  3.  4.  5.  6.  7.  8.  9. 10. 11. 12. 13. 14. 15. 16. 17. 18.\n",
      " 19. 20. 21. 22. 23. 24. 25. 26. 27. 28. 29. 30. 31. 32. 33. 34. 35. 36.\n",
      " 37. 38. 39. 40. 41. 42. 43. 44. 45. 46. 47. 48. 49. 50.]\n",
      "[1.0, 0.5, 0.75, 0.625, 0.6875, 0.65625, 0.671875, 0.6640625, 0.66796875, 0.666015625, 0.6669921875, 0.66650390625, 0.666748046875, 0.6666259765625, 0.66668701171875, 0.666656494140625, 0.6666717529296875, 0.6666641235351562, 0.6666679382324219, 0.6666660308837891, 0.6666669845581055, 0.6666665077209473, 0.6666667461395264, 0.6666666269302368, 0.6666666865348816, 0.6666666567325592, 0.6666666716337204, 0.6666666641831398, 0.6666666679084301, 0.666666666045785, 0.6666666669771075, 0.6666666665114462, 0.6666666667442769, 0.6666666666278616, 0.6666666666860692, 0.6666666666569654, 0.6666666666715173, 0.6666666666642413, 0.6666666666678793, 0.6666666666660603, 0.6666666666669698, 0.6666666666665151, 0.6666666666667425, 0.6666666666666288, 0.6666666666666856, 0.6666666666666572, 0.6666666666666714, 0.6666666666666643, 0.6666666666666679, 0.6666666666666661]\n"
     ]
    },
    {
     "data": {
      "image/png": "[encoded data removed]",
      "text/plain": [
       "<Figure size 432x288 with 1 Axes>"
      ]
     },
     "metadata": {
      "needs_background": "light"
     },
     "output_type": "display_data"
    }
   ],
   "source": [
    "# Calculating probability for each different case\n",
    "# (# of times the coin needs to be flipped)\n",
    "\n",
    "def coinFlipCase(N, n):\n",
    "    return math.factorial(N - 1 - n) / (math.factorial(n) * math.factorial(N - 1 - 2 * n))\n",
    "\n",
    "# adding all probabilities together\n",
    "\n",
    "def probForN(N):\n",
    "    if N % 2 == 1:\n",
    "        counter = 0\n",
    "        number = int((N-1)/2 + 1)\n",
    "        for i in range(0, number):\n",
    "            counter += coinFlipCase(N, i) / (2 ** (N - 1 - i))\n",
    "    else:\n",
    "        counter = 0\n",
    "        for i in range(0, int((N-2)/2 + 1)):\n",
    "            counter += coinFlipCase(N, i) / (2 ** (N - 1 - i))\n",
    "    return counter\n",
    "\n",
    "N = 50 # number from 1 up to N samples\n",
    "#creating x\n",
    "x = np.linspace(1, N, N)\n",
    "\n",
    "#creating y\n",
    "y = []\n",
    "for i in range(1, N + 1):\n",
    "    y.append(probForN(i))\n",
    "\n",
    "print(x)\n",
    "print(y)\n",
    "\n",
    "#creating z = 2/3\n",
    "z = []\n",
    "for i in range(1, N + 1):\n",
    "    z.append(2/3)\n",
    "\n",
    "plt.plot(x, y)\n",
    "plt.plot(x, z)\n",
    "plt.xlabel(\"N\")\n",
    "plt.ylabel(\"Probality of landing on N\")\n",
    "plt.title(\"Probability of landing on N against N with line at y = 2/3\")\n",
    "plt.show()"
   ]
  },
  {
   "cell_type": "code",
   "execution_count": 4,
   "id": "d8225161-f08c-4051-b795-f0fe7f2229c7",
   "metadata": {},
   "outputs": [
    {
     "name": "stdout",
     "output_type": "stream",
     "text": [
      "0.6666666865348816\n",
      "True\n"
     ]
    }
   ],
   "source": [
    "#Double checking the formula for P(n) produced from the recursion formula\n",
    "\n",
    "counter = 0\n",
    "for i in range(0,25):\n",
    "    counter += 1/((-2) ** i)\n",
    "print(counter)\n",
    "\n",
    "if probForN(25) == counter:\n",
    "    print(\"True\")\n",
    "# Printed outcome is equivalent to P(25)"
   ]
  },
  {
   "cell_type": "code",
   "execution_count": null,
   "id": "2d5e4e4c-dfa3-496d-928c-6cfbfb386d5b",
   "metadata": {},
   "outputs": [],
   "source": []
  }
 ],
 "metadata": {
  "kernelspec": {
   "display_name": "Python 3 (ipykernel)",
   "language": "python",
   "name": "python3"
  },
  "language_info": {
   "codemirror_mode": {
    "name": "ipython",
    "version": 3
   },
   "file_extension": ".py",
   "mimetype": "text/x-python",
   "name": "python",
   "nbconvert_exporter": "python",
   "pygments_lexer": "ipython3",
   "version": "3.9.7"
  }
 },
 "nbformat": 4,
 "nbformat_minor": 5
}
